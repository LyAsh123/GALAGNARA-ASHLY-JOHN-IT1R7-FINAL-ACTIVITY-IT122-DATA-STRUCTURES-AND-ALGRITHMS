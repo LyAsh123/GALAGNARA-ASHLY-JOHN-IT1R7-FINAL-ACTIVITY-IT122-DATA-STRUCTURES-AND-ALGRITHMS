{
 "cells": [
  {
   "cell_type": "code",
   "execution_count": null,
   "id": "after-marking",
   "metadata": {},
   "outputs": [],
   "source": [
    "print(\"Things I learned on Chapter 9\\n\\n\")\n",
    "print(\"There are three types of graphs in data structure presented in the video discussion. The\")\n",
    "print(\"first one is the undirected graph, this is a graph which the two nodes has no definite \")\n",
    "print(\"direction. But each node has called edges that connects both entities and it indicates a\")\n",
    "print(\"two-way relationship which means that the edges can be traversed in both direction. In \")\n",
    "print(\"contrast, there is the Directed graph that has edges with direction. Directed graph is\")\n",
    "print(\"different from Trees (Which I already have learned from the previous lessons) although \")\n",
    "print(\"both of them has edges indicates one-way relationship however Trees only have one \")\n",
    "print(\"path between two node while directed graph can randomly connect any two nodes \")\n",
    "print(\"that can only be traversed in a single direction. The last type of graph presented is the \")\n",
    "print(\"weighted graph. A graph that edges are weighted or has values associated. The values \")\n",
    "print(\"may represent distance covered or length between two nodes. For example looking for \")\n",
    "print(\"the shortest path from your house to school, the distance between two cities, or shortest \")\n",
    "print(\"routes so you can avoid getting late. Now to implement this types of graph in a program, \")\n",
    "print(\"tuple could be a good option as well as creating a dictionary.\")\n",
    "\n"
   ]
  },
  {
   "cell_type": "code",
   "execution_count": null,
   "id": "radical-marina",
   "metadata": {},
   "outputs": [],
   "source": [
    "print(\"Things I learned on Chapter 10\\n\\n\")\n",
    "\n",
    "print(\"The theory of linear search is said to be less efficient because of its time complexity as it \")\n",
    "print(\"is a method for searching and element within a list. It check every element in a sequential \")\n",
    "print(\"manner until it finally found the match or until the whole list has been searched. Linear \")\n",
    "print(\"search is straightforward because you are doing an n number of iterations. For example \")\n",
    "print(\"you have a list with one million elements, linear search will just perform iteration for one \")\n",
    "print(\"million times if you are looking for the last element within the list making it very slow when \")\n",
    "print(\"searching. A better method called binary search which works on the concept of sorted \")\n",
    "print(\"list.  In using binary search, in order to find an element from the list cutting of the n number \")\n",
    "print(\"of iterations you must get the middle element and you’ll be able to determine whether \")\n",
    "print(\"the element you are looking for is lesser than the middle element or higher. You are \")\n",
    "print(\"disregarding half of the elements. In other words, binary search is dividing the search \")\n",
    "print(\"space by half so the iteration one is disregarded n by two elements in iteration two it is n \")\n",
    "print(\"by two raised to two.\")"
   ]
  },
  {
   "cell_type": "code",
   "execution_count": null,
   "id": "effective-pioneer",
   "metadata": {},
   "outputs": [],
   "source": [
    "print(\"Things I learned on Chapter 11\\n\\n\")\n",
    "print(\"In building big projects, sorting vast number of transactions is important to easily \")\n",
    "print(\"determine which has bigger transactions or the contrast. Sorting in other words is a very \")\n",
    "print(\"common use case when developing a software. One of the techniques that can be used \")\n",
    "print(\"in sorting is the bubble sort. It basically begins by comparing the first two transactions, \")\n",
    "print(\"and if one of those transactions is greater than the other, it swaps the two determining \")\n",
    "print(\"which is much greater of them. The expected result must be that the lowest value will \")\n",
    "print(\"come from the bottom to the top or be at the front or first on the line.  Then the process \")\n",
    "print(\"can be repeated on the second and third element until all the values of the transaction \")\n",
    "print(\"form in a descending way. What is does is that in each iteration is to take two consecutive \")\n",
    "print(\"elements and compare and if the first element that was taken is greater than the second \")\n",
    "print(\"then it will just change the position or swap them. The time complexity is 0(n2) and the \")\n",
    "print(\"space complexity is 0(1) for it does uses additional space but using only the same array \")\n",
    "print(\"and swap the limit. For swapping, an extra variable is needed.\")\n"
   ]
  },
  {
   "cell_type": "code",
   "execution_count": null,
   "id": "limiting-metro",
   "metadata": {},
   "outputs": [],
   "source": [
    "print(\"Things I learned on Chapter 12\\n\\n\")\n",
    "print(\"Quick sort in algorithm is a technique of sorting which divides an array into sub arrays or \")\n",
    "print(\"partitions by selecting an element which is called pivot. The pivot position should be in \")\n",
    "print(\"the middle of an array. All the elements on the left side of the pivot are smaller than the \")\n",
    "print(\"pivot element and all the elements on the right side of the pivot are greater than the \")\n",
    "print(\"pivot element. It is not necessary that both left and right elements are sorted, but has to \")\n",
    "print(\"make sure that every single of that element is less than (the left) or greater than (when \")\n",
    "print(\"right). Now to sort all of the elements, select a pivot element on the left side and do the \")\n",
    "print(\"same process over again. Same as true to the right side until all the elements on the array \")\n",
    "print(\"are sorted. Looking back, the process on putting the pivot element to its right position is \")\n",
    "print(\"called partitioning. Putting an element in its right position is creating essentially two \")\n",
    "print(\"partitions, the left and right side. Partitioning has to types, Hoare Partition and Lomuto \")\n",
    "print(\"Partition. In Hoare Partition, there are two pointer the start. Hoare’s Partition Scheme \")\n",
    "print(\"works by setting up two indexes that start at two ends, the two indexes move toward \")\n",
    "print(\"each other until an inversion is found. When an inversion is found, two values are \")\n",
    "print(\"swapped and the process is repeated. Lomuto partition on the other hand is you can \")\n",
    "print(\"decide whether your end element is your pivot, as well as the middle and left element. \")\n",
    "print(\"The start element is called P index which means partition index. To find the greater \")\n",
    "print(\"element, P index should be move continuously. The main process is that it swaps the pivot \")\n",
    "print(\"out of the way, does the partition, swaps the pivot into place and then returns an index \")\n",
    "print(\"to the pivot at its sorted position.\")\n"
   ]
  },
  {
   "cell_type": "code",
   "execution_count": null,
   "id": "thrown-singer",
   "metadata": {},
   "outputs": [],
   "source": [
    "print(\"Things I learned on Chapter 13\\n\\n\")\n",
    "print(\"Starting from an array, take a pointer which is the first element and start from the second \")\n",
    "print(\"element. Anything to the left side of the pointer is a sorted array. When starting with the \")\n",
    "print(\"second element, the first element is a sorted array because having one element array is \")\n",
    "print(\"a sorted array. Take the second element and put it to the left side so that it will become \")\n",
    "print(\"sorted. After that the pointer must be moved to the next element so the first two elements \")\n",
    "print(\"will be sorted.  Go to the next element and compare it to the sorted array. Analyze \")\n",
    "print(\"whether the element you pick is lesser or greater than the second element. This sorting \")\n",
    "print(\"technique is called Insertion Sort where you pick up element from an unsorted array and \")\n",
    "print(\"putting it in a sorted array so that the orders are maintained. Keep on doing this until the \")\n",
    "print(\"array is sorted. When it comes to performance, Insertion sort can be less efficient on larger \")\n",
    "print(\"list or array compared to more advance sorting techniques. It’s worst-case performance \")\n",
    "print(\"is O(n2) comparisons and swaps, Best case performance is O(n) comparisons or O(1) \")\n",
    "print(\"swaps, average performance is O(n2) comparisons and swaps, and worst-case \")\n",
    "print(\"complexity is O(n) total, O(1) auxiliary.\")"
   ]
  },
  {
   "cell_type": "code",
   "execution_count": null,
   "id": "vocational-script",
   "metadata": {},
   "outputs": [],
   "source": [
    "print(\"Things I learned on Chapter 14\\n\\n\")\n",
    "print(\"When you have an unsorted array, divide the array into arrays depending on how many \")\n",
    "print(\"elements you have in your array. The division should result into multiple arrays with single \")\n",
    "print(\"element. And to think that all array with single element is considered as a sorted array \")\n",
    "print(\"making your arrays able to merge.  You want to merge all of the elements back into one \")\n",
    "print(\"single array that is sorted. Remember that the purpose of sorting algorithm is to take \")\n",
    "print(\"unsorted array and make a sorted array using the elements from the unsorted array.  For \")\n",
    "print(\"example you have 8 elements in an unsorted array, divide the array according to the \")\n",
    "print(\"number of elements it has. Of course, you’ll have 8 arrays with one element. Now take \")\n",
    "print(\"two arrays and try to merge them, compare which is greater and the lesser value must \")\n",
    "print(\"be a first. Take another two and merge them until all arrays has been merge. Continue \")\n",
    "print(\"this process until you’ll to out to one array with 8 elements that is sorted. This is the merge \")\n",
    "print(\"sort technique in sorting algorithm, when the process is to divide and conquer the \")\n",
    "print(\"elements within an array or list. With worst-case time complexity being Ο(n log n), it is one \")\n",
    "print(\"of the most respected algorithms.\")"
   ]
  },
  {
   "cell_type": "code",
   "execution_count": null,
   "id": "prospective-burning",
   "metadata": {},
   "outputs": [],
   "source": [
    "print(\"Things I learned on Chapter 15\\n\\n\")\n",
    "print(\"Another sorting algorithm technique that first sorts the elements far apart from each other \")\n",
    "print(\"and successively reduces the interval between the elements to be sorted. It is a general \")\n",
    "print(\"term for the sorting technique insertion sort. This technique is called the Shell Sort, however \")\n",
    "print(\"insertion sort takes several comparisons and swaps when small elements are towards the \")\n",
    "print(\"end. In shell sort, whatever array you have is you have to move the heavier element on \")\n",
    "print(\"the right side not necessarily that the elements are sorted but if you move the heavier \")\n",
    "print(\"elements to the right side number of swaps in comparison will be lesser.  Shell Sort uses \")\n",
    "print(\"the concept of a gap, it is like counting numbers by 2, 3, 4 or whatever but there is some \")\n",
    "print(\"kind of interval within the elements of an array forming sub arrays.  The process take only \")\n",
    "print(\"inside the sub array. The goal is to take all the heavier elements and put them in the right \")\n",
    "print(\"side of an array regardless if it is sorted or not.  After that, reduce the gap or the interval \")\n",
    "print(\"by one or two, for expel you have a gap of 3 from the first process, on the second should \")\n",
    "print(\"be reduce into two.  The overall goal here is for you to reach to a state where you get a \")\n",
    "print(\"gap of one. . You can then perform an insertion sort with less comparison and less swaps.\")\n"
   ]
  },
  {
   "cell_type": "code",
   "execution_count": null,
   "id": "efficient-georgia",
   "metadata": {},
   "outputs": [],
   "source": [
    "print(\"Things I learned on Chapter 16\\n\\n\")\n",
    "print(\"Selection Sort is an algorithm technique where you try to find a candidate for the first \")\n",
    "print(\"position, and that candidate would be the minimum number or the smallest number in \")\n",
    "print(\"the list. First, try to look at the list and find the minimum number then swap it with the first \")\n",
    "print(\"element if it is not place at the first spot. After that the first element is sorted. You then \")\n",
    "print(\"have to move to the second element and find a candidate for the second index. You \")\n",
    "print(\"have to find the second minimum number within the list and put it in the second index or \")\n",
    "print(\"rather it is a minimum element in the unsorted array, then swap. Repeating this process \")\n",
    "print(\"will make the entire list sorted. Essentially, this technique exemplifies that in every stage \")\n",
    "print(\"you have a sorted array (on the left) and unsorted array (on the right). Which means that \")\n",
    "print(\"you are basically dividing the list or creating sub arrays; a sub array which is sorted and a \")\n",
    "print(\"sub array which is unsorted. The technique considers ascending order.  The Big O \")\n",
    "print(\"complexity of this is 0(n2). To code, you’ll need to first declare a function that finds a \")\n",
    "print(\"minimum element from any list and create a loop under that function.\")"
   ]
  },
  {
   "cell_type": "code",
   "execution_count": null,
   "id": "important-assist",
   "metadata": {},
   "outputs": [],
   "source": [
    "print(\"Things I learned on Chapter 17\\n\\n\")\n",
    "print(\"Recursion is an approach of solving a problem which has three steps. First you divide a \")\n",
    "print(\"bigger problem into smaller and simpler problem. Second is the base condition which is \")\n",
    "print(\"the first one in the chain. Third point is that once you have an answer for the base \")\n",
    "print(\"condition, roll that answer all the way up until it reaches the end of the chain to solve the \")\n",
    "print(\"problem. It is basically summing up all the numbers from 1 to n. For example, finding the \")\n",
    "print(\"sum of numbers 1 to 5. Instead of doing it by iterative approach (like 1 plus 2, plus 3…. \")\n",
    "print(\"Plus 5), it should be 5 plus find the sum of number 1 to 4. The second step is 4 plus the sum \")\n",
    "print(\"of numbers 1 to 3 and so on until you find the base condition which is find the sum of \")\n",
    "print(\"numbers from 1 to 1.  To code this approach, you can use the code for recursive. In \")\n",
    "print(\"recursive function, there were to criteria, one is the repetitive task and reducing the \")\n",
    "print(\"problem to smaller and smaller problem. The second one is the base condition that \")\n",
    "print(\"terminates the recursion. The recursion function is a function that continues to call itself \")\n",
    "print(\"and repeat its behavior until a condition is reached then return a result.\")"
   ]
  },
  {
   "cell_type": "code",
   "execution_count": 3,
   "id": "hindu-automation",
   "metadata": {},
   "outputs": [
    {
     "name": "stdout",
     "output_type": "stream",
     "text": [
      "Fraction:  1/2\n",
      "Numerator:  1\n",
      "Denomenator:  2\n"
     ]
    }
   ],
   "source": [
    "#1. Implement the simple methods get_num and get_den that will return the numerator and denominator of a fraction.\n",
    "\n",
    "class fract:\n",
    "\n",
    "    def __init__(self, top, bottom):\n",
    "\n",
    "        self.num = top\n",
    "        self.den = bottom\n",
    "\n",
    "    def __str__(self):\n",
    "        return str(self.num) + \"/\" + str(self.den)\n",
    "\n",
    "    def get_num(self):\n",
    "        return self.num\n",
    "\n",
    "    def get_den(self):\n",
    "        return self.den\n",
    "\n",
    "fraction = fract(1, 2)\n",
    "print(\"Fraction: \", fraction)\n",
    "\n",
    "print(\"Numerator: \", fraction.get_num())\n",
    "print(\"Denomenator: \", fraction.get_den())"
   ]
  },
  {
   "cell_type": "code",
   "execution_count": 54,
   "id": "addressed-needle",
   "metadata": {},
   "outputs": [
    {
     "name": "stdout",
     "output_type": "stream",
     "text": [
      "Answer: \n",
      "The difference between _radd_ and _add_ is that _radd_ is used\n",
      "when the left objects does not have an _add_ methods, or does not\n",
      "know how to add two objects.\n"
     ]
    },
    {
     "data": {
      "text/plain": [
       "'I WISH I STARTED THIS EARLY,  SO I FINISHED IT SOONER.'"
      ]
     },
     "execution_count": 54,
     "metadata": {},
     "output_type": "execute_result"
    }
   ],
   "source": [
    "# 2. Research the __radd__ method. How does it differ from __add__? When is it used? Implement __radd__\")\n",
    "print(\"Answer: \\nThe difference between _radd_ and _add_ is that _radd_ is used\")\n",
    "print(\"when the left objects does not have an _add_ methods, or does not\")\n",
    "print(\"know how to add two objects.\")\n",
    "\n",
    "# Implementation of _radd_\n",
    "\n",
    "class RADD:\n",
    "    def __init__(self, initial):\n",
    "        self.data = initial.upper()\n",
    "        \n",
    "    def __add__(self, other):\n",
    "        return RADD(other + self.data)\n",
    "    \n",
    "    def __radd__(self, other):\n",
    "        return RADD(other + self.data)\n",
    "        \n",
    "b = RADD(\" so I finished it sooner.\")\n",
    "d = (\"I wish I started this early, \") + b\n",
    "\n",
    "d.data"
   ]
  },
  {
   "cell_type": "code",
   "execution_count": 28,
   "id": "thousand-sandwich",
   "metadata": {},
   "outputs": [
    {
     "name": "stdout",
     "output_type": "stream",
     "text": [
      "Answer: \n",
      "Both str() and repr() methods in python are used for string \n",
      "representation of a string. The __str__ is used to find the\n",
      "“informal”(readable) string representation of an object \n",
      "whereas __repr__ is used to find the “official” string \n",
      "representation of an object\n",
      "\n",
      "\n",
      "My Favorite Fruit is:\n"
     ]
    },
    {
     "data": {
      "text/plain": [
       "\"'Mango'\""
      ]
     },
     "execution_count": 28,
     "metadata": {},
     "output_type": "execute_result"
    }
   ],
   "source": [
    "# 3. Research the __repr__ method. How does it differ from __str__? When is it used? Implement __repr__.\n",
    "print(\"Answer: \")\n",
    "print(\"Both str() and repr() methods in python are used for string \")\n",
    "print(\"representation of a string. The __str__ is used to find the\")\n",
    "print(\"“informal”(readable) string representation of an object \")\n",
    "print(\"whereas __repr__ is used to find the “official” string \")\n",
    "print(\"representation of an object\")\n",
    "\n",
    "# Implementation of _repr_\n",
    "class REPR:\n",
    "    fruit = 'Mango'\n",
    "    def __repr__(self):\n",
    "        return repr(self.fruit)\n",
    "    \n",
    "fav = REPR()\n",
    "print(\"\\n\\nMy Favorite Fruit is:\")\n",
    "repr(fav)"
   ]
  },
  {
   "cell_type": "code",
   "execution_count": 31,
   "id": "combined-announcement",
   "metadata": {},
   "outputs": [
    {
     "name": "stdout",
     "output_type": "stream",
     "text": [
      "Sum =  3\n",
      "Carry =  0\n"
     ]
    }
   ],
   "source": [
    "# 4. The most simple arithmetic circuit is known as the half adder. Research the simple half-adder circuit. Implement this circuit.\n",
    "# Implementation of the circuit\n",
    "def half_adder(a, b):\n",
    "    sum = a ^ b\n",
    "    carry = a & b\n",
    "    \n",
    "    print(\"Sum = \", sum)\n",
    "    print(\"Carry = \", carry)\n",
    "    \n",
    "a = 1\n",
    "b = 2\n",
    "\n",
    "half_adder(a, b)"
   ]
  },
  {
   "cell_type": "code",
   "execution_count": 35,
   "id": "provincial-pontiac",
   "metadata": {},
   "outputs": [],
   "source": [
    "# 5. Design a class to represent a playing card and another one to represent a deck of cards. Using these two classes, implement your favorite card game.\n",
    "class Card(object):\n",
    "    sm = [\"Clubs\", \"Diamonds\", \"Hearts\", \"Spades\"]\n",
    "    rm = [None, \"2\", \"3\", \"4\", \"5\", \"6\", \"7\", \"8\", \"9\", \"10\", \"Jack\", \"Queen\", \"King\", \"Ace\"]\n",
    "\n",
    "    def __init__(self, suit=0, rank=1):\n",
    "        self.suit = suit\n",
    "        self.rank = rank\n",
    "\n",
    "    def __str__(self):\n",
    "        return '%s of %s' % (Card.rm[self.rank],\n",
    "                             Card.sm[self.suit])\n",
    "\n",
    "    def __lt__(self, other):\n",
    "        t1 = self.suit, self.rank\n",
    "        t2 = other.suit, other.rank\n",
    "        return t1 < t2\n",
    "\n",
    "    def getRank(self):\n",
    "        return self.rank"
   ]
  },
  {
   "cell_type": "code",
   "execution_count": 36,
   "id": "designed-lambda",
   "metadata": {},
   "outputs": [
    {
     "name": "stdout",
     "output_type": "stream",
     "text": [
      "Dequeue and Enqueue Benchmark Test\n",
      "----------------------\n",
      "Enqueue Operations\n",
      "----------------------\n",
      "MyQueue Result 1:  7.76552152633667\n",
      "Python Queue Result 2:  4.906280755996704\n",
      "----------------------\n",
      "Dequeue Operations\n",
      "----------------------\n",
      "MyQueue Result 1:  0.05600309371948242\n",
      "Python Queue Result 2:  0.0\n"
     ]
    }
   ],
   "source": [
    "# 6. Design and implement an experiment to do benchmark comparisons of the two queue(enqueue,dequeue) implementations. What can you learn from such an experiment?\n",
    "import time\n",
    "\n",
    "class Queue1:\n",
    "    def __init__(self):\n",
    "        self.items = []\n",
    "\n",
    "    def isEmpty(self):\n",
    "        return self.items == []\n",
    "\n",
    "    def enqueue(self, item):\n",
    "        self.items.insert(0, item)\n",
    "\n",
    "    def dequeue(self):\n",
    "        return self.items.pop()\n",
    "\n",
    "    def size(self):\n",
    "        return len(self.items)\n",
    "class Queue2:\n",
    "    def __init__(self):\n",
    "        self.items = []\n",
    "\n",
    "    def isEmpty(self):\n",
    "        return self.items == []\n",
    "\n",
    "    def enqueue(self, item):\n",
    "        self.items.insert(0, item)\n",
    "\n",
    "    def dequeue(self):\n",
    "        return self.items.pop()\n",
    "\n",
    "    def size(self):\n",
    "        return len(self.items)\n",
    "    \n",
    "q = Queue1()\n",
    "m = Queue2()\n",
    "t1 = time.time()\n",
    "for i in range(1, 100001):\n",
    "    m.enqueue(i)\n",
    "t2 = time.time()\n",
    "\n",
    "exec_time = t2 - t1\n",
    "\n",
    "\n",
    "t3 = time.time()\n",
    "for u in range(1, 100001):\n",
    "    q.enqueue(u)\n",
    "t4 = time.time()\n",
    "\n",
    "exec_time2 = t4 - t3\n",
    "\n",
    "\n",
    "t5 = time.time()\n",
    "if not q.isEmpty():\n",
    "    while q.items:\n",
    "        q.dequeue()\n",
    "t6 = time.time()\n",
    "exec_time3 = t6 - t5\n",
    "\n",
    "t7 = time.time()\n",
    "if not m.items:\n",
    "    while m.items:\n",
    "        m.dequeue()\n",
    "t8 = time.time()\n",
    "exec_time4 = t8 - t7\n",
    "\n",
    "print(\"Dequeue and Enqueue Benchmark Test\")\n",
    "print(\"----------------------\")\n",
    "print(\"Enqueue Operations\")\n",
    "print(\"----------------------\")\n",
    "print(\"MyQueue Result 1: \",     exec_time)\n",
    "print(\"Python Queue Result 2: \", exec_time2)\n",
    "print(\"----------------------\")\n",
    "print(\"Dequeue Operations\")\n",
    "print(\"----------------------\")\n",
    "print(\"MyQueue Result 1: \",      exec_time3)\n",
    "print(\"Python Queue Result 2: \", exec_time4)"
   ]
  },
  {
   "cell_type": "code",
   "execution_count": null,
   "id": "demanding-wallet",
   "metadata": {},
   "outputs": [],
   "source": [
    "# 7. Consider a real life situation. Formulate a question and then design a simulation that can help to answer it.\n",
    "# In an car wash line up, how much time does it take for the washer move on to the next car? \n",
    "#For me, it actually will depend on the car. If the car has little dirt, well, the time taken would also be lessen.\n",
    "#And if a car has a lot of dirt, the time to wash the car is greater."
   ]
  },
  {
   "cell_type": "code",
   "execution_count": null,
   "id": "frank-bristol",
   "metadata": {},
   "outputs": [],
   "source": [
    "#8. Implement a queue using linked lists.\n",
    "class Node:\n",
    "    def __init__(self,data):\n",
    "        self.data = data\n",
    "        self.next = None\n",
    "\n",
    "\n",
    "class Queue:\n",
    "    def __init__(self):\n",
    "        self.front = None\n",
    "        self.rear = None\n",
    "        \n",
    "    def Enqueue(self,data):\n",
    "        if self.rear is None:\n",
    "            self.front = self.rear = Node(data)\n",
    "        else:\n",
    "            self.rear.next = Node(data)\n",
    "            self.rear = self.rear.next\n",
    "            \n",
    "    def Dequeue(self):\n",
    "        if self.front is None:\n",
    "            return \"Queue is Empty\"\n",
    "        else:\n",
    "            to_return = self.front.data\n",
    "            self.front = self.front.next\n",
    "            return to_return\n",
    "        \n",
    "    def IsEmpty(self):\n",
    "        return self.front is None\n",
    "    def Size(self):\n",
    "        count = 0\n",
    "        cur = self.front\n",
    "        while(cur):\n",
    "            count+=1\n",
    "            cur = cur.next\n",
    "        return count\n",
    "    \n",
    "    def Front(self):\n",
    "        return self.front.data\n",
    "    \n",
    "    def Rear(self):\n",
    "        return self.rear.data"
   ]
  },
  {
   "cell_type": "code",
   "execution_count": null,
   "id": "peaceful-configuration",
   "metadata": {},
   "outputs": [],
   "source": [
    "q = Queue()"
   ]
  },
  {
   "cell_type": "code",
   "execution_count": null,
   "id": "exposed-hunger",
   "metadata": {},
   "outputs": [],
   "source": [
    "q.Enqueue(1)\n",
    "q.Enqueue(2)\n",
    "q.Enqueue(3)\n",
    "q.Enqueue(4)"
   ]
  },
  {
   "cell_type": "code",
   "execution_count": null,
   "id": "urban-nirvana",
   "metadata": {},
   "outputs": [],
   "source": [
    "q.IsEmpty()"
   ]
  },
  {
   "cell_type": "code",
   "execution_count": 21,
   "id": "excessive-metallic",
   "metadata": {},
   "outputs": [
    {
     "name": "stdout",
     "output_type": "stream",
     "text": [
      "The Factorial number is:  720\n"
     ]
    }
   ],
   "source": [
    "# 9. Write a recursive function to compute the factorial of a number.\n",
    "\n",
    "def factorial(n):\n",
    "\n",
    "    if(n==0):\n",
    "        return 1\n",
    "\n",
    "    return n * factorial(n-1)\n",
    "\n",
    "\n",
    "\n",
    "result = factorial(6)\n",
    "\n",
    "print(\"The Factorial number is: \", result)"
   ]
  },
  {
   "cell_type": "code",
   "execution_count": 53,
   "id": "interior-fluid",
   "metadata": {},
   "outputs": [
    {
     "name": "stdout",
     "output_type": "stream",
     "text": [
      "Element at index 4\n",
      "(True, 3)\n"
     ]
    }
   ],
   "source": [
    "# 10. Set up a random experiment to test the difference between a sequential search and a binary search on a list of integers.\n",
    "def binary(arr, low, high, x):\n",
    " \n",
    "    if high >= low:\n",
    " \n",
    "        center = (high + low) // 2\n",
    " \n",
    "        if arr[center] == x:\n",
    "            return center\n",
    " \n",
    "        elif arr[center] > x:\n",
    "            return binary(arr, low, center - 1, x)\n",
    " \n",
    "        else:\n",
    "            return binary(arr, center + 1, high, x)\n",
    " \n",
    "    else:\n",
    "        return -1\n",
    "def Sequential(dlist, item):\n",
    "\n",
    "    pos = 0\n",
    "    found = False\n",
    "    \n",
    "    while pos < len(dlist) and not found:\n",
    "        if dlist[pos] == item:\n",
    "            found = True\n",
    "        else:\n",
    "            pos = pos + 1\n",
    "    \n",
    "    return found, pos\n",
    " \n",
    "arr = [ 2, 4, 6, 8, 10 ]\n",
    "x = 10\n",
    " \n",
    "result = binary(arr, 0, len(arr)-1, x)\n",
    " \n",
    "if result != -1:\n",
    "    print(\"Element at index\", str(result))\n",
    "\n",
    "print(Sequential([22,46,69,42,67,88,54,23,76,20],42))"
   ]
  },
  {
   "cell_type": "code",
   "execution_count": 43,
   "id": "mexican-pepper",
   "metadata": {},
   "outputs": [
    {
     "ename": "SyntaxError",
     "evalue": "invalid syntax (<ipython-input-43-630447caafb5>, line 51)",
     "output_type": "error",
     "traceback": [
      "\u001b[1;36m  File \u001b[1;32m\"<ipython-input-43-630447caafb5>\"\u001b[1;36m, line \u001b[1;32m51\u001b[0m\n\u001b[1;33m    else:\u001b[0m\n\u001b[1;37m    ^\u001b[0m\n\u001b[1;31mSyntaxError\u001b[0m\u001b[1;31m:\u001b[0m invalid syntax\n"
     ]
    }
   ],
   "source": [
    "class StolenItem:\n",
    "    def __init__(self, theID, theValue, theWeight):\n",
    "        self.ID = theID\n",
    "        self.value = theValue\n",
    "        self.weight = theWeight\n",
    "def dpMaxProfit (itemList, knapWeight, maxProfits, weightsUsed):\n",
    "    maxProfit = 0\n",
    "\n",
    "    for knapWeights in range (knapWeight + 1):\n",
    "        print (\"KNAPWEIGHT:\", knapWeights - 1, \" \", maxProfits)\n",
    "        newItem = itemList[0]\n",
    "        \n",
    "    for item in [x for x in itemList if x.weight <= knapWeights]:\n",
    "        if maxProfits[knapWeights - item.weight] + item.value > maxProfit:\n",
    "            maxProfit = maxProfits[knapWeights - item.weight] + item.value\n",
    "            newItem = item\n",
    "    maxProfits[knapWeights] = maxProfit\n",
    "    weightsUsed[knapWeights] = newItem.weight\n",
    "\n",
    "    return(maxProfits[knapWeight])\n",
    "\t\n",
    "def reMaxProfit(itemList, knapWeight):\n",
    "    if knapWeight < 1:\n",
    "        return 0\n",
    "\n",
    "    l1 = [x for x in itemList if x.weight <= knapWeight]\t\n",
    "    profitList = [(item.value + reMaxProfit(itemList, knapWeight-item.weight)) for item in l1]\n",
    "\n",
    "    if len(profitList) > 0:\n",
    "        return max(profitList)\n",
    "    else:\n",
    "        return 0 \n",
    "\n",
    "def _weightsUsed(weightList, knapWeight):\n",
    "    weight = knapWeight\n",
    "    while weight > 0:\n",
    "        print(weightList[weight])\n",
    "    weight -= weightList[weight]\n",
    "recurse = True\n",
    "if recurse:\n",
    "    maxProfits = [0] * (knapWeight + 1)\n",
    "    weightsUsed = [0] * (knapWeight + 1)\n",
    "def main():\n",
    "    itemList = [StolenItem(1,3,2), StolenItem(2,4,3), StolenItem(3,8,4), StolenItem(4,8,5), StolenItem(5,10,9)]\n",
    "    knapWeight = 20\n",
    "    if recurse:\n",
    "        maxProfits = [0] * (knapWeight + 1)\n",
    "        weightsUsed = [0] * (knapWeight + 1)\n",
    "        print(dpMaxProfit(itemList, knapWeight, maxProfits, weightsUsed))\n",
    "        print (weightsUsed(weightsUsed, knapWeight)\n",
    "    else:\n",
    "        print(reMaxProfit(itemList, knapWeight))\n",
    "\n",
    "if __name__ == \"__main__\":\n",
    "\tmain()\n"
   ]
  },
  {
   "cell_type": "code",
   "execution_count": null,
   "id": "satisfactory-server",
   "metadata": {},
   "outputs": [],
   "source": []
  }
 ],
 "metadata": {
  "kernelspec": {
   "display_name": "Python 3",
   "language": "python",
   "name": "python3"
  },
  "language_info": {
   "codemirror_mode": {
    "name": "ipython",
    "version": 3
   },
   "file_extension": ".py",
   "mimetype": "text/x-python",
   "name": "python",
   "nbconvert_exporter": "python",
   "pygments_lexer": "ipython3",
   "version": "3.8.6"
  }
 },
 "nbformat": 4,
 "nbformat_minor": 5
}
